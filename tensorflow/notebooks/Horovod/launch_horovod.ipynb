{
 "cells": [
  {
   "cell_type": "markdown",
   "metadata": {},
   "source": [
    "# Launching a Horovod training"
   ]
  },
  {
   "cell_type": "markdown",
   "metadata": {},
   "source": [
    "<font color='red'> \n",
    "<h3>\n",
    "        This notebook is for launching a horovod job, for creating the model, please refer to one of the provided examples:\n",
    "</h3>\n",
    "\n",
    "</font>\n",
    "\n",
    "- Cifar-10 on hops and Horovod: [cifar10.ipynb](cifar10.ipynb)\n",
    "- Mnist: [mnist.ipynb](mnist.ipynb)\n",
    "- Word2Vec: [word2vec.ipynb](word2vec.ipynb)"
   ]
  },
  {
   "cell_type": "markdown",
   "metadata": {},
   "source": [
    "## Hops All-Reduce"
   ]
  },
  {
   "cell_type": "markdown",
   "metadata": {},
   "source": [
    "\n",
    "\n",
    "After writing your code in a notebook, like [cifar10.ipynb](cifar10.ipynb), you need to supply it to the launch function of `allreduce` module from `hops` library. Then you can easily launch **Horovod job in 2 steps**"
   ]
  },
  {
   "cell_type": "markdown",
   "metadata": {},
   "source": [
    "### Importing hops modules: \n",
    "Import `hdfs` module to get the path to your `Project name` on Hops."
   ]
  },
  {
   "cell_type": "code",
   "execution_count": null,
   "metadata": {},
   "outputs": [],
   "source": [
    "from hops import hdfs\n",
    "\n",
    "horovod_hdfs_examples_folder = '/Projects/' + hdfs.project_name() + '/Jupyter/Horovod/'"
   ]
  },
  {
   "cell_type": "code",
   "execution_count": null,
   "metadata": {},
   "outputs": [],
   "source": [
    "from hops import experiment"
   ]
  },
  {
   "cell_type": "markdown",
   "metadata": {},
   "source": [
    "## Launch it:\n",
    "Provide the `spark` session and the path to your notebook containing code for training the neural network, in our case `cifar10`, `mnist` or `word2vec` example. Uncomment the model you want to train accordingly."
   ]
  },
  {
   "cell_type": "code",
   "execution_count": null,
   "metadata": {},
   "outputs": [],
   "source": [
    "# Uncomment one of the notebooks below to run it\n",
    "\n",
    "#allreduce.launch(spark, horovod_hdfs_examples_folder + 'cifar10.ipynb', name='cifar10')\n",
    "#allreduce.launch(spark, horovod_hdfs_examples_folder + 'keras_mnist.ipynb', name='keras mnist', local_logdir=True)\n",
    "experiment.horovod(spark, horovod_hdfs_examples_folder + 'mnist_estimator.ipynb', name='mnist estimator')"
   ]
  },
  {
   "cell_type": "markdown",
   "metadata": {},
   "source": [
    "## Monitoring execution - TensorBoard <a class=\"anchor\" id='tensorboard'></a>\n",
    "To find the TensorBoard for the execution, please go back to HopsWorks and follow the arrows in the images below.\n",
    "\n",
    "![Image7-Monitor.png](../images/jupyter.png)\n",
    "\n",
    "![Image4-LaunchTensorboard.png](../images/overview.png)\n",
    "\n",
    "![Image8-Tensorboard.png](../images/tensorboard.png)\n",
    "\n",
    "## Monitoring execution - logs <a class=\"anchor\" id='logs'></a>\n",
    "To find the logs for the execution, please go back to HopsWorks and follow the arrows in the images below.\n",
    "\n",
    "![Image6-GoToLogs.png](../images/logs.png)\n",
    "\n",
    "![Image9-Logs.png](../images/viewlogs.png)"
   ]
  }
 ],
 "metadata": {
  "kernelspec": {
   "display_name": "PySpark",
   "language": "",
   "name": "pysparkkernel"
  },
  "language_info": {
   "codemirror_mode": {
    "name": "python",
    "version": 2
   },
   "mimetype": "text/x-python",
   "name": "pyspark",
   "pygments_lexer": "python2"
  }
 },
 "nbformat": 4,
 "nbformat_minor": 2
}
